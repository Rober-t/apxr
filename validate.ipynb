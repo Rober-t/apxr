{
 "cells": [
  {
   "cell_type": "code",
   "execution_count": null,
   "metadata": {},
   "outputs": [],
   "source": [
    "import numpy as np\n",
    "import pandas as pd\n",
    "import matplotlib.pyplot as plt"
   ]
  },
  {
   "cell_type": "code",
   "execution_count": null,
   "metadata": {},
   "outputs": [],
   "source": [
    "run = 1"
   ]
  },
  {
   "cell_type": "code",
   "execution_count": null,
   "metadata": {},
   "outputs": [],
   "source": [
    "mid_prices = pd.read_csv(f'/Users/admin/Workspace/apxr/output/apxr_mid_prices{run}.csv', header=None)\n",
    "mid_prices.columns = ['price']\n",
    "mid_prices['returns'] = mid_prices['price'].pct_change()"
   ]
  },
  {
   "cell_type": "code",
   "execution_count": null,
   "metadata": {},
   "outputs": [],
   "source": [
    "trade_prices = pd.read_csv(f'/Users/admin/Workspace/apxr/output/apxr_trades{run}.csv', header=None)\n",
    "trade_prices.columns = ['price']\n",
    "trade_prices['returns'] = trade_prices[\"price\"].pct_change()"
   ]
  },
  {
   "cell_type": "code",
   "execution_count": null,
   "metadata": {},
   "outputs": [],
   "source": [
    "mid_prices = pd.read_csv(f'/Users/admin/Workspace/apxr/output/test.csv', header=None)\n",
    "mid_prices.columns = [\"price\", 'ignore', 'ignore2', 'ignore3']\n",
    "mid_prices['returns'] = mid_prices[\"price\"].pct_change()"
   ]
  },
  {
   "cell_type": "markdown",
   "metadata": {},
   "source": [
    "## Fat tailed distribution of returns"
   ]
  },
  {
   "cell_type": "code",
   "execution_count": null,
   "metadata": {},
   "outputs": [],
   "source": [
    "time = []\n",
    "kurt = []\n",
    "\n",
    "for lag in range(2500):\n",
    "    lagged_returns = mid_prices['price'].pct_change(lag)\n",
    "    kurtosis = lagged_returns.kurt()\n",
    "    kurt.append(kurtosis)\n",
    "    time.append(lag)\n",
    "\n",
    "# Remove first observation since it is zero and Nan\n",
    "time = time[1:]\n",
    "kurt = kurt[1:]"
   ]
  },
  {
   "cell_type": "code",
   "execution_count": null,
   "metadata": {},
   "outputs": [],
   "source": [
    "plt.figure(figsize=(10, 7))\n",
    "\n",
    "plt.plot(time, kurt, label='Kurt')\n",
    "plt.legend()\n",
    "plt.xlabel('Time scale')\n",
    "plt.ylabel('Kurtosis')\n",
    "plt.title('Kurtosis of returns and lags')\n",
    "plt.tight_layout()"
   ]
  },
  {
   "cell_type": "markdown",
   "metadata": {},
   "source": [
    "## Volatility clustering"
   ]
  },
  {
   "cell_type": "code",
   "execution_count": null,
   "metadata": {},
   "outputs": [],
   "source": [
    "import sys\n",
    "!{sys.executable} -m pip install hurst"
   ]
  },
  {
   "cell_type": "code",
   "execution_count": null,
   "metadata": {},
   "outputs": [],
   "source": [
    "from hurst import compute_Hc\n",
    "\n",
    "H_list = []\n",
    "\n",
    "for lag in range(1, 2500):\n",
    "    H, c, data = compute_Hc(np.cumsum(mid_prices[\"price\"].pct_change(lag).dropna().abs()), kind='random_walk', simplified=True)\n",
    "    H_list.append(H)"
   ]
  },
  {
   "cell_type": "code",
   "execution_count": null,
   "metadata": {},
   "outputs": [],
   "source": [
    "f, ax = plt.subplots(figsize=(10, 7))\n",
    "plt.plot(np.arange(2499), H_list)\n",
    "ax.set_xlabel('Time interval')\n",
    "ax.set_ylabel('Hurst exponent')\n",
    "ax.grid(True)\n",
    "plt.title('Volatility clustering')\n",
    "plt.show()"
   ]
  },
  {
   "cell_type": "markdown",
   "metadata": {},
   "source": [
    "## Autocorrelation of returns"
   ]
  },
  {
   "cell_type": "code",
   "execution_count": null,
   "metadata": {},
   "outputs": [],
   "source": [
    "def autocorrelation(x):\n",
    "    result = np.correlate(x, x, mode='full')\n",
    "    return result[int(len(result)/2):]"
   ]
  },
  {
   "cell_type": "code",
   "execution_count": null,
   "metadata": {},
   "outputs": [],
   "source": [
    "# First lag returns of mid prices\n",
    "returns_first_lag = mid_prices['returns']\n",
    "returns_first_lag_ac = autocorrelation(returns_first_lag[2:])\n",
    "\n",
    "# First lag returns of trade prices\n",
    "tp_first_lag = trade_prices['returns']\n",
    "tp_first_lag_ac = autocorrelation(tp_first_lag[2:])"
   ]
  },
  {
   "cell_type": "code",
   "execution_count": null,
   "metadata": {},
   "outputs": [],
   "source": [
    "summary = pd.DataFrame(returns_first_lag_ac, columns=['Mid price'])\n",
    "summary.describe()"
   ]
  },
  {
   "cell_type": "code",
   "execution_count": null,
   "metadata": {},
   "outputs": [],
   "source": [
    "summary = pd.DataFrame(tp_first_lag_ac, columns=['Trade price'])\n",
    "summary.describe()"
   ]
  },
  {
   "cell_type": "markdown",
   "metadata": {},
   "source": [
    "## Long memory in order flow"
   ]
  },
  {
   "cell_type": "code",
   "execution_count": null,
   "metadata": {},
   "outputs": [],
   "source": [
    "order_sides = pd.read_csv(f'/Users/admin/Workspace/apxr/output/apxr_order_sides{run}.csv', header=None)\n",
    "order_sides.columns = ['side']\n",
    "\n",
    "constraint = (order_sides['side'] == 0)\n",
    "order_sides.loc[constraint, 'side'] = order_sides['side'] - 1\n",
    "\n",
    "order_sides.head(10)"
   ]
  },
  {
   "cell_type": "code",
   "execution_count": null,
   "metadata": {},
   "outputs": [],
   "source": [
    "# Mean first order lag autocorrelation of the order sign series\n",
    "coeff = np.mean(autocorrelation(order_sides['side']))\n",
    "print(\"Coeff is:\", coeff)"
   ]
  },
  {
   "cell_type": "code",
   "execution_count": null,
   "metadata": {},
   "outputs": [],
   "source": [
    "# Hurst exponent\n",
    "H, c, data = compute_Hc(order_sides['side'].dropna(), kind='change', simplified=True)\n",
    "print(\"Hurst coeff for order-sign is:\", H)"
   ]
  },
  {
   "cell_type": "code",
   "execution_count": null,
   "metadata": {},
   "outputs": [],
   "source": [
    "order_sides.describe()"
   ]
  },
  {
   "cell_type": "markdown",
   "metadata": {},
   "source": [
    "## Concave price impact"
   ]
  },
  {
   "cell_type": "code",
   "execution_count": null,
   "metadata": {},
   "outputs": [],
   "source": [
    "price_impact = pd.read_csv(f'/Users/admin/Workspace/apxr/output/apxr_price_impacts{run}.csv', header=None)\n",
    "price_impact.columns = ['volume', 'impact']\n",
    "price_impact['volume'] = price_impact['volume'] /  price_impact['volume'].sum()\n",
    "price_impact.head(10)"
   ]
  },
  {
   "cell_type": "code",
   "execution_count": null,
   "metadata": {},
   "outputs": [],
   "source": [
    "price_impact.describe()"
   ]
  },
  {
   "cell_type": "code",
   "execution_count": null,
   "metadata": {},
   "outputs": [],
   "source": [
    "from sklearn.linear_model import LinearRegression\n",
    "\n",
    "clf = LinearRegression()\n",
    "clf.fit(price_impact['volume'].values.reshape(-1, 1), price_impact['impact'])\n",
    "clf.coef_"
   ]
  },
  {
   "cell_type": "code",
   "execution_count": null,
   "metadata": {},
   "outputs": [],
   "source": [
    "f, ax = plt.subplots(figsize=(10, 7))\n",
    "plt.plot(np.arange(1, 200000), clf.coef_ * np.arange(1, 200000) + clf.intercept_)\n",
    "ax.set_xlabel('Volume')\n",
    "ax.set_ylabel('Price impact')\n",
    "ax.grid(True)\n",
    "plt.title('Concave price impact')\n",
    "plt.show()"
   ]
  },
  {
   "cell_type": "markdown",
   "metadata": {},
   "source": [
    "## Extreme price events"
   ]
  },
  {
   "cell_type": "code",
   "execution_count": null,
   "metadata": {},
   "outputs": [],
   "source": [
    "def is_extreme(position, df):\n",
    "    \"\"\"Returns true for a position if it consistently takes\n",
    "    up/down position for 10 times before switching to the\n",
    "    opposite and the net change is at least 0.8% of initial\n",
    "    price\"\"\"\n",
    "    initial_price = df.iloc[0]['price']\n",
    "    prices = df['price'].values\n",
    "    curr_price = prices[position]\n",
    "    increasing = True\n",
    "    for i in range(position + 1, position + 10):\n",
    "        if curr_price >= prices[i]:\n",
    "            increasing = False\n",
    "            break\n",
    "    if increasing:\n",
    "        delta = abs(prices[position] - prices[position + 10])\n",
    "        if delta > initial_price * 0.08:\n",
    "            return True\n",
    "    decreaing = True\n",
    "    for i in range(position + 1, position + 10):\n",
    "        if curr_price <= prices[i]:\n",
    "            decreaing = False\n",
    "            break\n",
    "    if decreaing:\n",
    "        delta = abs(prices[position] - prices[position + 10])\n",
    "        if delta > initial_price * 0.08:\n",
    "            return True\n",
    "    return False"
   ]
  },
  {
   "cell_type": "code",
   "execution_count": null,
   "metadata": {},
   "outputs": [],
   "source": [
    "extreme_events = []\n",
    "for i in range(len(mid_prices) - 10):\n",
    "    if is_extreme(i, mid_prices):\n",
    "        # save position\n",
    "        extreme_events.append(i)"
   ]
  },
  {
   "cell_type": "code",
   "execution_count": null,
   "metadata": {},
   "outputs": [],
   "source": [
    "extreme_events"
   ]
  },
  {
   "cell_type": "code",
   "execution_count": null,
   "metadata": {
    "scrolled": true
   },
   "outputs": [],
   "source": [
    "#f, ax = plt.subplots(figsize=(10, 7))\n",
    "#plt.plot(np.arange(1), extreme_events)\n",
    "#ax.set_xlabel('Event Duration')\n",
    "#ax.set_ylabel('Relative number of events')\n",
    "#ax.set_xlim((0, 50))\n",
    "#ax.grid(True)\n",
    "#plt.title('Extreme price events')\n",
    "#plt.show()"
   ]
  }
 ],
 "metadata": {
  "kernelspec": {
   "display_name": "Python 3",
   "language": "python",
   "name": "python3"
  },
  "language_info": {
   "codemirror_mode": {
    "name": "ipython",
    "version": 3
   },
   "file_extension": ".py",
   "mimetype": "text/x-python",
   "name": "python",
   "nbconvert_exporter": "python",
   "pygments_lexer": "ipython3",
   "version": "3.7.3"
  }
 },
 "nbformat": 4,
 "nbformat_minor": 2
}
