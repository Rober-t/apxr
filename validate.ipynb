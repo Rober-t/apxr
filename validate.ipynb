{
 "cells": [
  {
   "cell_type": "code",
   "execution_count": 88,
   "metadata": {},
   "outputs": [],
   "source": [
    "import numpy as np\n",
    "import pandas as pd\n",
    "import matplotlib.pyplot as plt"
   ]
  },
  {
   "cell_type": "code",
   "execution_count": 89,
   "metadata": {},
   "outputs": [],
   "source": [
    "number_of_runs = 10\n",
    "\n",
    "mid_price_files = []\n",
    "\n",
    "for i in range(number_of_runs):\n",
    "    file = f\"/Users/admin/Workspace/apxr/output/apxr_mid_prices{i+1}.csv\"\n",
    "    mid_price_files.append(file)"
   ]
  },
  {
   "cell_type": "code",
   "execution_count": 90,
   "metadata": {},
   "outputs": [
    {
     "data": {
      "text/html": [
       "<div>\n",
       "<style scoped>\n",
       "    .dataframe tbody tr th:only-of-type {\n",
       "        vertical-align: middle;\n",
       "    }\n",
       "\n",
       "    .dataframe tbody tr th {\n",
       "        vertical-align: top;\n",
       "    }\n",
       "\n",
       "    .dataframe thead th {\n",
       "        text-align: right;\n",
       "    }\n",
       "</style>\n",
       "<table border=\"1\" class=\"dataframe\">\n",
       "  <thead>\n",
       "    <tr style=\"text-align: right;\">\n",
       "      <th></th>\n",
       "      <th>MidPrice</th>\n",
       "    </tr>\n",
       "  </thead>\n",
       "  <tbody>\n",
       "    <tr>\n",
       "      <th>0</th>\n",
       "      <td>100.017</td>\n",
       "    </tr>\n",
       "    <tr>\n",
       "      <th>1</th>\n",
       "      <td>100.016</td>\n",
       "    </tr>\n",
       "    <tr>\n",
       "      <th>2</th>\n",
       "      <td>100.016</td>\n",
       "    </tr>\n",
       "    <tr>\n",
       "      <th>3</th>\n",
       "      <td>100.018</td>\n",
       "    </tr>\n",
       "    <tr>\n",
       "      <th>4</th>\n",
       "      <td>100.018</td>\n",
       "    </tr>\n",
       "    <tr>\n",
       "      <th>5</th>\n",
       "      <td>100.018</td>\n",
       "    </tr>\n",
       "    <tr>\n",
       "      <th>6</th>\n",
       "      <td>100.020</td>\n",
       "    </tr>\n",
       "    <tr>\n",
       "      <th>7</th>\n",
       "      <td>100.020</td>\n",
       "    </tr>\n",
       "    <tr>\n",
       "      <th>8</th>\n",
       "      <td>100.020</td>\n",
       "    </tr>\n",
       "    <tr>\n",
       "      <th>9</th>\n",
       "      <td>100.020</td>\n",
       "    </tr>\n",
       "  </tbody>\n",
       "</table>\n",
       "</div>"
      ],
      "text/plain": [
       "   MidPrice\n",
       "0   100.017\n",
       "1   100.016\n",
       "2   100.016\n",
       "3   100.018\n",
       "4   100.018\n",
       "5   100.018\n",
       "6   100.020\n",
       "7   100.020\n",
       "8   100.020\n",
       "9   100.020"
      ]
     },
     "execution_count": 90,
     "metadata": {},
     "output_type": "execute_result"
    }
   ],
   "source": [
    "from numpy import genfromtxt\n",
    "\n",
    "mid_price_data = genfromtxt(mid_price_files[0], delimiter=',')\n",
    "\n",
    "for f in mid_price_files[1:]:\n",
    "    mid_price_data += genfromtxt(f, delimiter=',')\n",
    "\n",
    "mid_price_data /= len(mid_price_files)\n",
    "\n",
    "mid_prices = pd.DataFrame(mid_price_data, columns=['MidPrice'])\n",
    "mid_prices.head(10)"
   ]
  },
  {
   "cell_type": "code",
   "execution_count": 91,
   "metadata": {},
   "outputs": [
    {
     "data": {
      "text/html": [
       "<div>\n",
       "<style scoped>\n",
       "    .dataframe tbody tr th:only-of-type {\n",
       "        vertical-align: middle;\n",
       "    }\n",
       "\n",
       "    .dataframe tbody tr th {\n",
       "        vertical-align: top;\n",
       "    }\n",
       "\n",
       "    .dataframe thead th {\n",
       "        text-align: right;\n",
       "    }\n",
       "</style>\n",
       "<table border=\"1\" class=\"dataframe\">\n",
       "  <thead>\n",
       "    <tr style=\"text-align: right;\">\n",
       "      <th></th>\n",
       "      <th>MidPrice</th>\n",
       "      <th>Returns</th>\n",
       "    </tr>\n",
       "  </thead>\n",
       "  <tbody>\n",
       "    <tr>\n",
       "      <th>0</th>\n",
       "      <td>100.017</td>\n",
       "      <td>NaN</td>\n",
       "    </tr>\n",
       "    <tr>\n",
       "      <th>1</th>\n",
       "      <td>100.016</td>\n",
       "      <td>-0.00001</td>\n",
       "    </tr>\n",
       "    <tr>\n",
       "      <th>2</th>\n",
       "      <td>100.016</td>\n",
       "      <td>0.00000</td>\n",
       "    </tr>\n",
       "    <tr>\n",
       "      <th>3</th>\n",
       "      <td>100.018</td>\n",
       "      <td>0.00002</td>\n",
       "    </tr>\n",
       "    <tr>\n",
       "      <th>4</th>\n",
       "      <td>100.018</td>\n",
       "      <td>0.00000</td>\n",
       "    </tr>\n",
       "    <tr>\n",
       "      <th>5</th>\n",
       "      <td>100.018</td>\n",
       "      <td>0.00000</td>\n",
       "    </tr>\n",
       "    <tr>\n",
       "      <th>6</th>\n",
       "      <td>100.020</td>\n",
       "      <td>0.00002</td>\n",
       "    </tr>\n",
       "    <tr>\n",
       "      <th>7</th>\n",
       "      <td>100.020</td>\n",
       "      <td>0.00000</td>\n",
       "    </tr>\n",
       "    <tr>\n",
       "      <th>8</th>\n",
       "      <td>100.020</td>\n",
       "      <td>0.00000</td>\n",
       "    </tr>\n",
       "    <tr>\n",
       "      <th>9</th>\n",
       "      <td>100.020</td>\n",
       "      <td>0.00000</td>\n",
       "    </tr>\n",
       "  </tbody>\n",
       "</table>\n",
       "</div>"
      ],
      "text/plain": [
       "   MidPrice  Returns\n",
       "0   100.017      NaN\n",
       "1   100.016 -0.00001\n",
       "2   100.016  0.00000\n",
       "3   100.018  0.00002\n",
       "4   100.018  0.00000\n",
       "5   100.018  0.00000\n",
       "6   100.020  0.00002\n",
       "7   100.020  0.00000\n",
       "8   100.020  0.00000\n",
       "9   100.020  0.00000"
      ]
     },
     "execution_count": 91,
     "metadata": {},
     "output_type": "execute_result"
    }
   ],
   "source": [
    "mid_prices[\"Returns\"] = mid_prices[\"MidPrice\"].pct_change(1)\n",
    "mid_prices.head(10)"
   ]
  },
  {
   "cell_type": "code",
   "execution_count": 92,
   "metadata": {},
   "outputs": [],
   "source": [
    "trade_price_files = []\n",
    "\n",
    "for i in range(number_of_runs):\n",
    "    file = f\"/Users/admin/Workspace/apxr/output/apxr_trades{i+1}.csv\"\n",
    "    trade_price_files.append(file)"
   ]
  },
  {
   "cell_type": "code",
   "execution_count": 93,
   "metadata": {},
   "outputs": [
    {
     "data": {
      "text/html": [
       "<div>\n",
       "<style scoped>\n",
       "    .dataframe tbody tr th:only-of-type {\n",
       "        vertical-align: middle;\n",
       "    }\n",
       "\n",
       "    .dataframe tbody tr th {\n",
       "        vertical-align: top;\n",
       "    }\n",
       "\n",
       "    .dataframe thead th {\n",
       "        text-align: right;\n",
       "    }\n",
       "</style>\n",
       "<table border=\"1\" class=\"dataframe\">\n",
       "  <thead>\n",
       "    <tr style=\"text-align: right;\">\n",
       "      <th></th>\n",
       "      <th>TradePrice</th>\n",
       "    </tr>\n",
       "  </thead>\n",
       "  <tbody>\n",
       "    <tr>\n",
       "      <th>0</th>\n",
       "      <td>100.018</td>\n",
       "    </tr>\n",
       "    <tr>\n",
       "      <th>1</th>\n",
       "      <td>100.013</td>\n",
       "    </tr>\n",
       "    <tr>\n",
       "      <th>2</th>\n",
       "      <td>100.015</td>\n",
       "    </tr>\n",
       "    <tr>\n",
       "      <th>3</th>\n",
       "      <td>100.013</td>\n",
       "    </tr>\n",
       "    <tr>\n",
       "      <th>4</th>\n",
       "      <td>100.011</td>\n",
       "    </tr>\n",
       "    <tr>\n",
       "      <th>5</th>\n",
       "      <td>100.012</td>\n",
       "    </tr>\n",
       "    <tr>\n",
       "      <th>6</th>\n",
       "      <td>100.013</td>\n",
       "    </tr>\n",
       "    <tr>\n",
       "      <th>7</th>\n",
       "      <td>100.013</td>\n",
       "    </tr>\n",
       "    <tr>\n",
       "      <th>8</th>\n",
       "      <td>100.015</td>\n",
       "    </tr>\n",
       "    <tr>\n",
       "      <th>9</th>\n",
       "      <td>100.014</td>\n",
       "    </tr>\n",
       "  </tbody>\n",
       "</table>\n",
       "</div>"
      ],
      "text/plain": [
       "   TradePrice\n",
       "0     100.018\n",
       "1     100.013\n",
       "2     100.015\n",
       "3     100.013\n",
       "4     100.011\n",
       "5     100.012\n",
       "6     100.013\n",
       "7     100.013\n",
       "8     100.015\n",
       "9     100.014"
      ]
     },
     "execution_count": 93,
     "metadata": {},
     "output_type": "execute_result"
    }
   ],
   "source": [
    "trade_price_data = []\n",
    "\n",
    "for filename in trade_price_files:\n",
    "    tr = pd.read_csv(filename, header=None)\n",
    "    tr.columns = columns=[\"TradePrice\"]\n",
    "    trade_price_data.append(tr)\n",
    "\n",
    "trade_price_data_avg = pd.concat(trade_price_data, axis=1).mean(axis=1)\n",
    "trade_prices = pd.DataFrame(trade_price_data_avg, columns=['TradePrice'])\n",
    "trade_prices.head(10)"
   ]
  },
  {
   "cell_type": "code",
   "execution_count": 94,
   "metadata": {},
   "outputs": [
    {
     "data": {
      "text/html": [
       "<div>\n",
       "<style scoped>\n",
       "    .dataframe tbody tr th:only-of-type {\n",
       "        vertical-align: middle;\n",
       "    }\n",
       "\n",
       "    .dataframe tbody tr th {\n",
       "        vertical-align: top;\n",
       "    }\n",
       "\n",
       "    .dataframe thead th {\n",
       "        text-align: right;\n",
       "    }\n",
       "</style>\n",
       "<table border=\"1\" class=\"dataframe\">\n",
       "  <thead>\n",
       "    <tr style=\"text-align: right;\">\n",
       "      <th></th>\n",
       "      <th>TradePrice</th>\n",
       "      <th>Returns</th>\n",
       "    </tr>\n",
       "  </thead>\n",
       "  <tbody>\n",
       "    <tr>\n",
       "      <th>0</th>\n",
       "      <td>100.018</td>\n",
       "      <td>NaN</td>\n",
       "    </tr>\n",
       "    <tr>\n",
       "      <th>1</th>\n",
       "      <td>100.013</td>\n",
       "      <td>-0.00005</td>\n",
       "    </tr>\n",
       "    <tr>\n",
       "      <th>2</th>\n",
       "      <td>100.015</td>\n",
       "      <td>0.00002</td>\n",
       "    </tr>\n",
       "    <tr>\n",
       "      <th>3</th>\n",
       "      <td>100.013</td>\n",
       "      <td>-0.00002</td>\n",
       "    </tr>\n",
       "    <tr>\n",
       "      <th>4</th>\n",
       "      <td>100.011</td>\n",
       "      <td>-0.00002</td>\n",
       "    </tr>\n",
       "    <tr>\n",
       "      <th>5</th>\n",
       "      <td>100.012</td>\n",
       "      <td>0.00001</td>\n",
       "    </tr>\n",
       "    <tr>\n",
       "      <th>6</th>\n",
       "      <td>100.013</td>\n",
       "      <td>0.00001</td>\n",
       "    </tr>\n",
       "    <tr>\n",
       "      <th>7</th>\n",
       "      <td>100.013</td>\n",
       "      <td>0.00000</td>\n",
       "    </tr>\n",
       "    <tr>\n",
       "      <th>8</th>\n",
       "      <td>100.015</td>\n",
       "      <td>0.00002</td>\n",
       "    </tr>\n",
       "    <tr>\n",
       "      <th>9</th>\n",
       "      <td>100.014</td>\n",
       "      <td>-0.00001</td>\n",
       "    </tr>\n",
       "  </tbody>\n",
       "</table>\n",
       "</div>"
      ],
      "text/plain": [
       "   TradePrice  Returns\n",
       "0     100.018      NaN\n",
       "1     100.013 -0.00005\n",
       "2     100.015  0.00002\n",
       "3     100.013 -0.00002\n",
       "4     100.011 -0.00002\n",
       "5     100.012  0.00001\n",
       "6     100.013  0.00001\n",
       "7     100.013  0.00000\n",
       "8     100.015  0.00002\n",
       "9     100.014 -0.00001"
      ]
     },
     "execution_count": 94,
     "metadata": {},
     "output_type": "execute_result"
    }
   ],
   "source": [
    "trade_prices[\"Returns\"] = trade_prices[\"TradePrice\"].pct_change(1)\n",
    "trade_prices.head(10)"
   ]
  },
  {
   "cell_type": "markdown",
   "metadata": {},
   "source": [
    "## Fat tailed distribution of returns"
   ]
  },
  {
   "cell_type": "code",
   "execution_count": 95,
   "metadata": {},
   "outputs": [],
   "source": [
    "time = []\n",
    "kurt = []\n",
    "\n",
    "for lag in range(2500):\n",
    "    lagged_returns = mid_prices[\"MidPrice\"].pct_change(lag)\n",
    "    kurtosis = lagged_returns.kurt()\n",
    "    kurt.append(kurtosis)\n",
    "    time.append(lag)\n",
    "\n",
    "# Remove first observation since it is zero and Nan\n",
    "time = time[1:]\n",
    "kurt = kurt[1:]"
   ]
  },
  {
   "cell_type": "code",
   "execution_count": 96,
   "metadata": {},
   "outputs": [
    {
     "data": {
      "image/png": "[encoded data removed]",
      "text/plain": [
       "<Figure size 720x504 with 1 Axes>"
      ]
     },
     "metadata": {
      "needs_background": "light"
     },
     "output_type": "display_data"
    }
   ],
   "source": [
    "plt.figure(figsize=(10, 7))\n",
    "\n",
    "plt.plot(time, kurt, label=\"Kurt\")\n",
    "plt.legend()\n",
    "plt.xlabel(\"Time scale\")\n",
    "plt.ylabel(\"Kurtosis\")\n",
    "plt.title(\"Kurtosis of returns and lags\")\n",
    "plt.tight_layout()"
   ]
  },
  {
   "cell_type": "markdown",
   "metadata": {},
   "source": [
    "## Volatility clustering"
   ]
  },
  {
   "cell_type": "code",
   "execution_count": null,
   "metadata": {},
   "outputs": [],
   "source": [
    "import sys\n",
    "!{sys.executable} -m pip install hurst"
   ]
  },
  {
   "cell_type": "code",
   "execution_count": null,
   "metadata": {},
   "outputs": [],
   "source": [
    "# Use random_walk() function or generate a random walk series manually:\n",
    "# series = random_walk(99999, cumprod=True)\n",
    "from hurst import compute_Hc, random_walk\n",
    "random_changes = 1. + np.random.randn(99999) / 1000.\n",
    "series = np.cumprod(random_changes)  # create a random walk from random changes\n",
    "\n",
    "# Evaluate Hurst equation\n",
    "H, c, data = compute_Hc(mid_prices[\"MidPrice\"], kind='random_walk', simplified=True)\n",
    "\n",
    "# Plot\n",
    "\n",
    "f, ax = plt.subplots(figsize=(10, 7))\n",
    "ax.plot(data[0], c*data[0]**H, color=\"deepskyblue\")\n",
    "ax.scatter(data[0], data[1], color=\"purple\")\n",
    "ax.set_xscale('log')\n",
    "ax.set_yscale('log')\n",
    "ax.set_xlabel('Time interval')\n",
    "ax.set_ylabel('R/S ratio')\n",
    "ax.grid(True)\n",
    "plt.show()\n",
    "\n",
    "print(\"H={:.4f}, c={:.4f}\".format(H,c))"
   ]
  },
  {
   "cell_type": "code",
   "execution_count": null,
   "metadata": {},
   "outputs": [],
   "source": [
    "H, c, data = compute_Hc(mid_prices[\"MidPrice\"], kind='price', simplified=True)"
   ]
  },
  {
   "cell_type": "code",
   "execution_count": null,
   "metadata": {},
   "outputs": [],
   "source": [
    "coeff_list = []\n",
    "\n",
    "for lag in range(1, 200):\n",
    "    H, c, data = compute_Hc(mid_prices[\"MidPrice\"].pct_change(lag).dropna().abs(), \n",
    "                            kind='random_walk', simplified=True)\n",
    "    coeff_list.append(H)"
   ]
  },
  {
   "cell_type": "code",
   "execution_count": null,
   "metadata": {},
   "outputs": [],
   "source": [
    "f, ax = plt.subplots(figsize=(10, 7))\n",
    "plt.plot(np.arange(199), coeff_list)\n",
    "ax.set_yscale('log')\n",
    "ax.set_xlabel('Time interval')\n",
    "ax.set_ylabel('% of simulations with significant clustering')\n",
    "ax.grid(True)\n",
    "plt.title(\"Volatility Clustering\")\n",
    "plt.show()"
   ]
  },
  {
   "cell_type": "markdown",
   "metadata": {},
   "source": [
    "## Autocorrelation of returns"
   ]
  },
  {
   "cell_type": "code",
   "execution_count": null,
   "metadata": {},
   "outputs": [],
   "source": [
    "def autocorrelation(x):\n",
    "    result = np.correlate(x, x, mode='full')\n",
    "    return result[int(len(result)/2):]"
   ]
  },
  {
   "cell_type": "code",
   "execution_count": null,
   "metadata": {},
   "outputs": [],
   "source": [
    "lag = 1\n",
    "\n",
    "# First lag of returns of mid prices\n",
    "returns_first_lag = mid_prices[\"Returns\"]\n",
    "returns_first_lag_ac = autocorrelation(returns_first_lag[2:])\n",
    "\n",
    "# First lag of returns of transactions\n",
    "tr_first_lag = tr[\"Returns\"]\n",
    "tr_first_lag_ac = autocorrelation(tr_first_lag[2:])"
   ]
  },
  {
   "cell_type": "code",
   "execution_count": null,
   "metadata": {},
   "outputs": [],
   "source": [
    "summary = pd.DataFrame(returns_first_lag_ac, columns=[\"MidPrices\"])\n",
    "summary.describe()"
   ]
  },
  {
   "cell_type": "code",
   "execution_count": null,
   "metadata": {},
   "outputs": [],
   "source": [
    "summary = pd.DataFrame(tr_first_lag_ac, columns=[\"MidPrices\"])\n",
    "summary.describe()"
   ]
  },
  {
   "cell_type": "markdown",
   "metadata": {},
   "source": [
    "## Long memory in order flow"
   ]
  },
  {
   "cell_type": "code",
   "execution_count": null,
   "metadata": {},
   "outputs": [],
   "source": [
    "# first order lag autocorrelation of the order-sign\n",
    "lag = 1\n",
    "coeff = np.log(np.mean(autocorrelation(tr[\"Direction\"])))\n",
    "print(\"Coeff is:\", coeff)"
   ]
  },
  {
   "cell_type": "code",
   "execution_count": null,
   "metadata": {},
   "outputs": [],
   "source": [
    "# hurst exponent\n",
    "\n",
    "H, c, data = compute_Hc(tr[\"Direction\"].dropna().abs(), \n",
    "                            kind='random_walk', simplified=True)\n",
    "print(\"Hurst coeff for order-sign is:\", H)"
   ]
  },
  {
   "cell_type": "markdown",
   "metadata": {},
   "source": [
    "## Concave Price impact"
   ]
  },
  {
   "cell_type": "code",
   "execution_count": null,
   "metadata": {},
   "outputs": [],
   "source": [
    "from sklearn.linear_model import LinearRegression\n",
    "\n",
    "clf = LinearRegression()\n",
    "clf.fit(tr[\"Volume\"].values.reshape(-1, 1), tr[\"Price\"])"
   ]
  },
  {
   "cell_type": "code",
   "execution_count": null,
   "metadata": {},
   "outputs": [],
   "source": [
    "clf.coef_"
   ]
  },
  {
   "cell_type": "code",
   "execution_count": null,
   "metadata": {},
   "outputs": [],
   "source": [
    "tr[\"Volume\"].describe()"
   ]
  },
  {
   "cell_type": "code",
   "execution_count": null,
   "metadata": {},
   "outputs": [],
   "source": [
    "f, ax = plt.subplots(figsize=(10, 7))\n",
    "plt.plot(np.arange(1, 1500), clf.coef_ * np.arange(1, 1500) + clf.intercept_)\n",
    "ax.set_xlabel('Volume')\n",
    "ax.set_ylabel('Price Impact')\n",
    "ax.set_xlim((0, 1400))\n",
    "ax.grid(True)\n",
    "plt.title(\"Concave Price Impact\")\n",
    "plt.show()"
   ]
  },
  {
   "cell_type": "code",
   "execution_count": null,
   "metadata": {
    "scrolled": true
   },
   "outputs": [],
   "source": [
    "mid_prices.head(10)"
   ]
  },
  {
   "cell_type": "markdown",
   "metadata": {},
   "source": [
    "## Extreme Price Events"
   ]
  },
  {
   "cell_type": "code",
   "execution_count": null,
   "metadata": {},
   "outputs": [],
   "source": [
    "mid_prices.iloc[0][\"MidPrice\"]"
   ]
  },
  {
   "cell_type": "code",
   "execution_count": null,
   "metadata": {},
   "outputs": [],
   "source": [
    "def is_extreme(position, df):\n",
    "    \"\"\"Returns true for a position if it consistently takes\n",
    "    up/down position for 10 times before switching to the\n",
    "    opposite and the net change is at least 0.8% of initial\n",
    "    price\"\"\"\n",
    "    initial_price = df.iloc[0][\"MidPrice\"]\n",
    "    prices = df[\"MidPrice\"].values\n",
    "    curr_price = prices[position]\n",
    "    increasing = True\n",
    "    for i in range(position + 1, position + 10):\n",
    "        if curr_price >= prices[i]:\n",
    "            increasing = False\n",
    "            break\n",
    "    if increasing:\n",
    "        delta = abs(prices[position] - prices[position + 10])\n",
    "        if delta > initial_price * 0.08:\n",
    "            return True\n",
    "    decreaing = True\n",
    "    for i in range(position + 1, position + 10):\n",
    "        if curr_price <= prices[i]:\n",
    "            decreaing = False\n",
    "            break\n",
    "    if decreaing:\n",
    "        delta = abs(prices[position] - prices[position + 10])\n",
    "        if delta > initial_price * 0.08:\n",
    "            return True\n",
    "    return False"
   ]
  },
  {
   "cell_type": "code",
   "execution_count": null,
   "metadata": {
    "scrolled": true
   },
   "outputs": [],
   "source": [
    "# checking for working\n",
    "for i in range(20 - 10):\n",
    "    print(is_extreme(i, pd.DataFrame(np.arange(0, 20), columns=[\"MidPrice\"])))"
   ]
  },
  {
   "cell_type": "code",
   "execution_count": null,
   "metadata": {},
   "outputs": [],
   "source": [
    "extreme_events = []\n",
    "for i in range(len(mid_prices) - 10):\n",
    "    if is_extreme(i, mid_prices):\n",
    "        # save position\n",
    "        extreme_events.append(i)"
   ]
  },
  {
   "cell_type": "code",
   "execution_count": null,
   "metadata": {},
   "outputs": [],
   "source": [
    "extreme_events"
   ]
  },
  {
   "cell_type": "markdown",
   "metadata": {},
   "source": [
    "For the current dataset, it appears there are no extreme events"
   ]
  },
  {
   "cell_type": "code",
   "execution_count": null,
   "metadata": {
    "scrolled": true
   },
   "outputs": [],
   "source": [
    "# assuming there is one event, just to plot\n",
    "extreme_events = [1]\n",
    "f, ax = plt.subplots(figsize=(7, 4))\n",
    "plt.plot(np.arange(1), extreme_events)\n",
    "ax.set_xlabel('Event Duration')\n",
    "ax.set_ylabel('Relative number of events')\n",
    "ax.set_xlim((0, 1400))\n",
    "ax.grid(True)\n",
    "plt.title(\"Concave Price Impact\")\n",
    "plt.tight_layout()\n"
   ]
  },
  {
   "cell_type": "code",
   "execution_count": null,
   "metadata": {},
   "outputs": [],
   "source": []
  }
 ],
 "metadata": {
  "kernelspec": {
   "display_name": "Python 3",
   "language": "python",
   "name": "python3"
  },
  "language_info": {
   "codemirror_mode": {
    "name": "ipython",
    "version": 3
   },
   "file_extension": ".py",
   "mimetype": "text/x-python",
   "name": "python",
   "nbconvert_exporter": "python",
   "pygments_lexer": "ipython3",
   "version": "3.7.3"
  }
 },
 "nbformat": 4,
 "nbformat_minor": 2
}
