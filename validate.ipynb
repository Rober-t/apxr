{
 "cells": [
  {
   "cell_type": "code",
   "execution_count": null,
   "metadata": {},
   "outputs": [],
   "source": [
    "import numpy as np\n",
    "import pandas as pd\n",
    "import matplotlib.pyplot as plt"
   ]
  },
  {
   "cell_type": "code",
   "execution_count": null,
   "metadata": {},
   "outputs": [],
   "source": [
    "number_of_runs = 10\n",
    "\n",
    "mid_price_files = []\n",
    "\n",
    "for i in range(number_of_runs):\n",
    "    file = f\"/Users/admin/Workspace/apxr/output/apxr_mid_prices{i+1}.csv\"\n",
    "    mid_price_files.append(file)"
   ]
  },
  {
   "cell_type": "code",
   "execution_count": null,
   "metadata": {},
   "outputs": [],
   "source": [
    "from numpy import genfromtxt\n",
    "\n",
    "mid_price_data = genfromtxt(mid_price_files[0], delimiter=',')\n",
    "\n",
    "for f in mid_price_files[1:]:\n",
    "    mid_price_data += genfromtxt(f, delimiter=',')\n",
    "\n",
    "mid_price_data /= len(mid_price_files)\n",
    "\n",
    "mid_prices = pd.DataFrame(mid_price_data, columns=['price'])\n",
    "\n",
    "mid_prices['returns'] = mid_prices[\"price\"].pct_change()\n",
    "\n",
    "mid_prices.head(10)"
   ]
  },
  {
   "cell_type": "code",
   "execution_count": null,
   "metadata": {},
   "outputs": [],
   "source": [
    "trade_price_files = []\n",
    "\n",
    "for i in range(number_of_runs):\n",
    "    file = f\"/Users/admin/Workspace/apxr/output/apxr_trades{i+1}.csv\"\n",
    "    trade_price_files.append(file)"
   ]
  },
  {
   "cell_type": "code",
   "execution_count": null,
   "metadata": {},
   "outputs": [],
   "source": [
    "trade_price_data = []\n",
    "\n",
    "for filename in trade_price_files:\n",
    "    tr = pd.read_csv(filename, header=None)\n",
    "    tr.columns = columns=['price']\n",
    "    trade_price_data.append(tr)\n",
    "\n",
    "trade_price_data_avg = pd.concat(trade_price_data, axis=1).mean(axis=1)\n",
    "trade_prices = pd.DataFrame(trade_price_data_avg, columns=['price'])\n",
    "\n",
    "trade_prices['returns'] = trade_prices[\"price\"].pct_change()\n",
    "\n",
    "trade_prices.head(10)"
   ]
  },
  {
   "cell_type": "markdown",
   "metadata": {},
   "source": [
    "## Fat tailed distribution of returns"
   ]
  },
  {
   "cell_type": "code",
   "execution_count": null,
   "metadata": {},
   "outputs": [],
   "source": [
    "time = []\n",
    "kurt = []\n",
    "\n",
    "for lag in range(2500):\n",
    "    lagged_returns = mid_prices['price'].pct_change(lag)\n",
    "    kurtosis = lagged_returns.kurt()\n",
    "    kurt.append(kurtosis)\n",
    "    time.append(lag)\n",
    "\n",
    "# Remove first observation since it is zero and Nan\n",
    "time = time[1:]\n",
    "kurt = kurt[1:]"
   ]
  },
  {
   "cell_type": "code",
   "execution_count": null,
   "metadata": {},
   "outputs": [],
   "source": [
    "plt.figure(figsize=(10, 7))\n",
    "\n",
    "plt.plot(time, kurt, label='Kurt')\n",
    "plt.legend()\n",
    "plt.xlabel('Time scale')\n",
    "plt.ylabel('Kurtosis')\n",
    "plt.title('Kurtosis of returns and lags')\n",
    "plt.tight_layout()"
   ]
  },
  {
   "cell_type": "markdown",
   "metadata": {},
   "source": [
    "## Volatility clustering"
   ]
  },
  {
   "cell_type": "code",
   "execution_count": null,
   "metadata": {},
   "outputs": [],
   "source": [
    "import sys\n",
    "!{sys.executable} -m pip install hurst"
   ]
  },
  {
   "cell_type": "code",
   "execution_count": null,
   "metadata": {},
   "outputs": [],
   "source": [
    "from hurst import compute_Hc, random_walk\n",
    "\n",
    "# Evaluate Hurst equation\n",
    "H, c, data = compute_Hc(np.cumsum(mid_prices['returns'].dropna().abs()), kind='random_walk', simplified=True)\n",
    "\n",
    "# Plot\n",
    "f, ax = plt.subplots(figsize=(10, 7))\n",
    "ax.plot(data[0], c*data[0]**H, color='deepskyblue')\n",
    "ax.scatter(data[0], data[1], color='purple')\n",
    "ax.set_xscale('log')\n",
    "ax.set_yscale('log')\n",
    "ax.set_xlabel('Time interval')\n",
    "ax.set_ylabel('R/S ratio')\n",
    "ax.grid(True)\n",
    "plt.show()\n",
    "\n",
    "# The rescaled range is a statistical measure of the\n",
    "# variability of a time series. Its purpose is to provide\n",
    "# an assessment of how the apparent variability of a series\n",
    "# changes with the length of the time-period being considered.\n",
    "# The slope of this line gives the Hurst exponent, H.\n",
    "\n",
    "print(\"H={:.4f}, c={:.4f}\".format(H,c))"
   ]
  },
  {
   "cell_type": "code",
   "execution_count": null,
   "metadata": {},
   "outputs": [],
   "source": [
    "H_list = []\n",
    "\n",
    "for lag in range(1, 2500):\n",
    "    H, c, data = compute_Hc(np.cumsum(mid_prices[\"returns\"].dropna().abs()), kind='random_walk', simplified=True)\n",
    "    H_list.append(H)"
   ]
  },
  {
   "cell_type": "code",
   "execution_count": null,
   "metadata": {},
   "outputs": [],
   "source": [
    "f, ax = plt.subplots(figsize=(10, 7))\n",
    "plt.plot(np.arange(2499), H_list)\n",
    "ax.set_xlabel('Time interval')\n",
    "ax.set_ylabel('Hurst exponent')\n",
    "ax.grid(True)\n",
    "plt.title('Volatility clustering')\n",
    "plt.show()"
   ]
  },
  {
   "cell_type": "markdown",
   "metadata": {},
   "source": [
    "## Autocorrelation of returns"
   ]
  },
  {
   "cell_type": "code",
   "execution_count": null,
   "metadata": {},
   "outputs": [],
   "source": [
    "def autocorrelation(x):\n",
    "    result = np.correlate(x, x, mode='full')\n",
    "    return result[int(len(result)/2):]"
   ]
  },
  {
   "cell_type": "code",
   "execution_count": null,
   "metadata": {},
   "outputs": [],
   "source": [
    "# First lag returns of mid prices\n",
    "returns_first_lag = mid_prices['returns']\n",
    "returns_first_lag_ac = autocorrelation(returns_first_lag[2:])\n",
    "\n",
    "# First lag returns of trade prices\n",
    "tp_first_lag = trade_prices['returns']\n",
    "tp_first_lag_ac = autocorrelation(tp_first_lag[2:])"
   ]
  },
  {
   "cell_type": "code",
   "execution_count": null,
   "metadata": {},
   "outputs": [],
   "source": [
    "summary = pd.DataFrame(returns_first_lag_ac, columns=['Mid price'])\n",
    "summary.describe()"
   ]
  },
  {
   "cell_type": "code",
   "execution_count": null,
   "metadata": {},
   "outputs": [],
   "source": [
    "summary = pd.DataFrame(tp_first_lag_ac, columns=['Trade price'])\n",
    "summary.describe()"
   ]
  },
  {
   "cell_type": "markdown",
   "metadata": {},
   "source": [
    "## Long memory in order flow"
   ]
  },
  {
   "cell_type": "code",
   "execution_count": null,
   "metadata": {},
   "outputs": [],
   "source": [
    "order_side_files = []\n",
    "\n",
    "for i in range(number_of_runs):\n",
    "    file = f\"/Users/admin/Workspace/apxr/output/apxr_order_sides{i+1}.csv\"\n",
    "    order_side_files.append(file)"
   ]
  },
  {
   "cell_type": "code",
   "execution_count": null,
   "metadata": {},
   "outputs": [],
   "source": [
    "order_side_stats = []\n",
    "order_side_h = []\n",
    "\n",
    "for filename in order_side_files:\n",
    "    oss = pd.read_csv(filename, header=None)\n",
    "    oss.columns = columns=[\"side\"]\n",
    "    # First order lag autocorrelation of the order sign\n",
    "    avg = np.log(np.mean(autocorrelation(oss['side'])))\n",
    "    order_side_stats.append(avg)\n",
    "    # Hurst exponent\n",
    "    H, c, data = compute_Hc(oss['side'].dropna().abs(), kind='change', simplified=True)\n",
    "    order_side_h.append(H)"
   ]
  },
  {
   "cell_type": "code",
   "execution_count": null,
   "metadata": {},
   "outputs": [],
   "source": [
    "os_stats = pd.DataFrame(order_side_stats, columns=['Order side statistics'])\n",
    "os_stats.describe()"
   ]
  },
  {
   "cell_type": "code",
   "execution_count": null,
   "metadata": {},
   "outputs": [],
   "source": [
    "os_h = pd.DataFrame(order_side_h, columns=['H order sides'])\n",
    "os_h.describe()"
   ]
  },
  {
   "cell_type": "markdown",
   "metadata": {},
   "source": [
    "## Concave price impact"
   ]
  },
  {
   "cell_type": "code",
   "execution_count": null,
   "metadata": {},
   "outputs": [],
   "source": [
    "price_impact_files = []\n",
    "\n",
    "for i in range(number_of_runs):\n",
    "    file = f\"/Users/admin/Workspace/apxr/output/apxr_price_impacts{i+1}.csv\"\n",
    "    price_impact_files.append(file)"
   ]
  },
  {
   "cell_type": "code",
   "execution_count": null,
   "metadata": {},
   "outputs": [],
   "source": [
    "price_impact_data = []\n",
    "\n",
    "for filename in price_impact_files:\n",
    "    impact = pd.read_csv(filename, header=None)\n",
    "    impact.columns = columns=['volume', 'impact']\n",
    "    impact['volume'] = np.log(impact['volume'])\n",
    "    price_impact_data.append(impact)\n",
    "\n",
    "price_impact_data_all = pd.concat(price_impact_data)\n",
    "price_impact = pd.DataFrame(price_impact_data_all, columns=['volume', 'impact'])\n",
    "\n",
    "price_impact.head(10)"
   ]
  },
  {
   "cell_type": "code",
   "execution_count": null,
   "metadata": {},
   "outputs": [],
   "source": [
    "from sklearn.linear_model import LinearRegression\n",
    "\n",
    "clf = LinearRegression()\n",
    "clf.fit(price_impact[\"volume\"].values.reshape(-1, 1), price_impact[\"impact\"])\n",
    "clf.coef_"
   ]
  },
  {
   "cell_type": "code",
   "execution_count": null,
   "metadata": {},
   "outputs": [],
   "source": [
    "f, ax = plt.subplots(figsize=(10, 7))\n",
    "plt.plot(np.arange(1, 200000), clf.coef_ * np.arange(1, 200000) + clf.intercept_)\n",
    "ax.set_xlabel('Volume')\n",
    "ax.set_ylabel('Price impact')\n",
    "ax.grid(True)\n",
    "plt.title('Concave price impact')\n",
    "plt.show()"
   ]
  },
  {
   "cell_type": "markdown",
   "metadata": {},
   "source": [
    "## Extreme price events"
   ]
  },
  {
   "cell_type": "code",
   "execution_count": null,
   "metadata": {},
   "outputs": [],
   "source": [
    "def is_extreme(position, df):\n",
    "    \"\"\"Returns true for a position if it consistently takes\n",
    "    up/down position for 10 times before switching to the\n",
    "    opposite and the net change is at least 0.8% of initial\n",
    "    price\"\"\"\n",
    "    initial_price = df.iloc[0]['price']\n",
    "    prices = df['price'].values\n",
    "    curr_price = prices[position]\n",
    "    increasing = True\n",
    "    for i in range(position + 1, position + 10):\n",
    "        if curr_price >= prices[i]:\n",
    "            increasing = False\n",
    "            break\n",
    "    if increasing:\n",
    "        delta = abs(prices[position] - prices[position + 10])\n",
    "        if delta > initial_price * 0.08:\n",
    "            return True\n",
    "    decreaing = True\n",
    "    for i in range(position + 1, position + 10):\n",
    "        if curr_price <= prices[i]:\n",
    "            decreaing = False\n",
    "            break\n",
    "    if decreaing:\n",
    "        delta = abs(prices[position] - prices[position + 10])\n",
    "        if delta > initial_price * 0.08:\n",
    "            return True\n",
    "    return False"
   ]
  },
  {
   "cell_type": "code",
   "execution_count": null,
   "metadata": {},
   "outputs": [],
   "source": [
    "extreme_events = []\n",
    "for i in range(len(mid_prices) - 10):\n",
    "    if is_extreme(i, mid_prices):\n",
    "        # save position\n",
    "        extreme_events.append(i)"
   ]
  },
  {
   "cell_type": "code",
   "execution_count": null,
   "metadata": {
    "scrolled": true
   },
   "outputs": [],
   "source": [
    "f, ax = plt.subplots(figsize=(10, 7))\n",
    "plt.plot(np.arange(1), extreme_events)\n",
    "ax.set_xlabel('Event Duration')\n",
    "ax.set_ylabel('Relative number of events')\n",
    "ax.set_xlim((0, 50))\n",
    "ax.grid(True)\n",
    "plt.title('Extreme price events')\n",
    "plt.show()"
   ]
  },
  {
   "cell_type": "code",
   "execution_count": null,
   "metadata": {},
   "outputs": [],
   "source": []
  }
 ],
 "metadata": {
  "kernelspec": {
   "display_name": "Python 3",
   "language": "python",
   "name": "python3"
  },
  "language_info": {
   "codemirror_mode": {
    "name": "ipython",
    "version": 3
   },
   "file_extension": ".py",
   "mimetype": "text/x-python",
   "name": "python",
   "nbconvert_exporter": "python",
   "pygments_lexer": "ipython3",
   "version": "3.7.3"
  }
 },
 "nbformat": 4,
 "nbformat_minor": 2
}
